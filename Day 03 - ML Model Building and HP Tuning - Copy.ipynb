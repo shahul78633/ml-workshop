{
  "cells": [
    {
      "cell_type": "markdown",
      "id": "a9f2d35f",
      "metadata": {},
      "source": [
        "## **DAY 02**"
      ]
    },
    {
      "cell_type": "code",
      "execution_count": 1,
      "id": "7cbd4cf8-58d4-48f0-8d2a-e033dde97d09",
      "metadata": {
        "id": "7cbd4cf8-58d4-48f0-8d2a-e033dde97d09"
      },
      "outputs": [],
      "source": [
        "# Import Libraries\n",
        "import pandas as pd\n",
        "import matplotlib.pyplot as plt\n",
        "import seaborn as sns\n",
        "from nltk.tokenize import word_tokenize\n",
        "import string\n",
        "import re\n",
        "from nltk.corpus import stopwords\n",
        "from sklearn.feature_extraction.text import TfidfVectorizer\n",
        "from sklearn.model_selection import train_test_split, GridSearchCV\n",
        "from sklearn.metrics import confusion_matrix, classification_report, f1_score"
      ]
    },
    {
      "cell_type": "markdown",
      "id": "d7ccce01",
      "metadata": {},
      "source": [
        "**Reading Data**"
      ]
    },
    {
      "cell_type": "code",
      "execution_count": 2,
      "id": "c715aa44",
      "metadata": {
        "id": "c715aa44"
      },
      "outputs": [
        {
          "data": {
            "text/html": [
              "<div>\n",
              "<style scoped>\n",
              "    .dataframe tbody tr th:only-of-type {\n",
              "        vertical-align: middle;\n",
              "    }\n",
              "\n",
              "    .dataframe tbody tr th {\n",
              "        vertical-align: top;\n",
              "    }\n",
              "\n",
              "    .dataframe thead th {\n",
              "        text-align: right;\n",
              "    }\n",
              "</style>\n",
              "<table border=\"1\" class=\"dataframe\">\n",
              "  <thead>\n",
              "    <tr style=\"text-align: right;\">\n",
              "      <th></th>\n",
              "      <th>review</th>\n",
              "      <th>sentiment</th>\n",
              "    </tr>\n",
              "  </thead>\n",
              "  <tbody>\n",
              "    <tr>\n",
              "      <th>0</th>\n",
              "      <td>One of the other reviewers has mentioned that ...</td>\n",
              "      <td>positive</td>\n",
              "    </tr>\n",
              "    <tr>\n",
              "      <th>1</th>\n",
              "      <td>A wonderful little production. &lt;br /&gt;&lt;br /&gt;The...</td>\n",
              "      <td>positive</td>\n",
              "    </tr>\n",
              "    <tr>\n",
              "      <th>2</th>\n",
              "      <td>I thought this was a wonderful way to spend ti...</td>\n",
              "      <td>positive</td>\n",
              "    </tr>\n",
              "    <tr>\n",
              "      <th>3</th>\n",
              "      <td>Basically there's a family where a little boy ...</td>\n",
              "      <td>negative</td>\n",
              "    </tr>\n",
              "    <tr>\n",
              "      <th>4</th>\n",
              "      <td>Petter Mattei's \"Love in the Time of Money\" is...</td>\n",
              "      <td>positive</td>\n",
              "    </tr>\n",
              "    <tr>\n",
              "      <th>...</th>\n",
              "      <td>...</td>\n",
              "      <td>...</td>\n",
              "    </tr>\n",
              "    <tr>\n",
              "      <th>49995</th>\n",
              "      <td>I thought this movie did a down right good job...</td>\n",
              "      <td>positive</td>\n",
              "    </tr>\n",
              "    <tr>\n",
              "      <th>49996</th>\n",
              "      <td>Bad plot, bad dialogue, bad acting, idiotic di...</td>\n",
              "      <td>negative</td>\n",
              "    </tr>\n",
              "    <tr>\n",
              "      <th>49997</th>\n",
              "      <td>I am a Catholic taught in parochial elementary...</td>\n",
              "      <td>negative</td>\n",
              "    </tr>\n",
              "    <tr>\n",
              "      <th>49998</th>\n",
              "      <td>I'm going to have to disagree with the previou...</td>\n",
              "      <td>negative</td>\n",
              "    </tr>\n",
              "    <tr>\n",
              "      <th>49999</th>\n",
              "      <td>No one expects the Star Trek movies to be high...</td>\n",
              "      <td>negative</td>\n",
              "    </tr>\n",
              "  </tbody>\n",
              "</table>\n",
              "<p>50000 rows × 2 columns</p>\n",
              "</div>"
            ],
            "text/plain": [
              "                                                  review sentiment\n",
              "0      One of the other reviewers has mentioned that ...  positive\n",
              "1      A wonderful little production. <br /><br />The...  positive\n",
              "2      I thought this was a wonderful way to spend ti...  positive\n",
              "3      Basically there's a family where a little boy ...  negative\n",
              "4      Petter Mattei's \"Love in the Time of Money\" is...  positive\n",
              "...                                                  ...       ...\n",
              "49995  I thought this movie did a down right good job...  positive\n",
              "49996  Bad plot, bad dialogue, bad acting, idiotic di...  negative\n",
              "49997  I am a Catholic taught in parochial elementary...  negative\n",
              "49998  I'm going to have to disagree with the previou...  negative\n",
              "49999  No one expects the Star Trek movies to be high...  negative\n",
              "\n",
              "[50000 rows x 2 columns]"
            ]
          },
          "execution_count": 2,
          "metadata": {},
          "output_type": "execute_result"
        }
      ],
      "source": [
        "# Read the dataset\n",
        "dataset = pd.read_csv('C:/MAFAS/APU/UNIVERSITY COLLABORATIONS/VET Institute of Arts and Science/12-17 September 2025/Workshop/DAY 02/IMDb_Reviews.csv')\n",
        "dataset"
      ]
    },
    {
      "cell_type": "markdown",
      "id": "69864670",
      "metadata": {
        "id": "69864670"
      },
      "source": [
        "**Random Sampling**\n",
        "\n",
        "Random sampling ensures fairness, reduces bias, and allows valid generalization from sample to population. Random sampling makes big data manageable, efficient, and still statistically valid."
      ]
    },
    {
      "cell_type": "code",
      "execution_count": 3,
      "id": "ba896dcb",
      "metadata": {
        "id": "ba896dcb"
      },
      "outputs": [],
      "source": [
        "# Perform random sampling\n",
        "dataset = dataset.sample(n = 25000, random_state = 42)  # Adjust the value of n as needed\n",
        "\n",
        "# Reset index\n",
        "dataset.reset_index(drop = True, inplace = True)"
      ]
    },
    {
      "cell_type": "code",
      "execution_count": 4,
      "id": "bbb0370e",
      "metadata": {
        "colab": {
          "base_uri": "https://localhost:8080/",
          "height": 423
        },
        "id": "bbb0370e",
        "outputId": "b51f6090-d457-4932-f11a-07fc7292cd5e"
      },
      "outputs": [
        {
          "data": {
            "text/html": [
              "<div>\n",
              "<style scoped>\n",
              "    .dataframe tbody tr th:only-of-type {\n",
              "        vertical-align: middle;\n",
              "    }\n",
              "\n",
              "    .dataframe tbody tr th {\n",
              "        vertical-align: top;\n",
              "    }\n",
              "\n",
              "    .dataframe thead th {\n",
              "        text-align: right;\n",
              "    }\n",
              "</style>\n",
              "<table border=\"1\" class=\"dataframe\">\n",
              "  <thead>\n",
              "    <tr style=\"text-align: right;\">\n",
              "      <th></th>\n",
              "      <th>review</th>\n",
              "      <th>sentiment</th>\n",
              "    </tr>\n",
              "  </thead>\n",
              "  <tbody>\n",
              "    <tr>\n",
              "      <th>0</th>\n",
              "      <td>I really liked this Summerslam due to the look...</td>\n",
              "      <td>positive</td>\n",
              "    </tr>\n",
              "    <tr>\n",
              "      <th>1</th>\n",
              "      <td>Not many television shows appeal to quite as m...</td>\n",
              "      <td>positive</td>\n",
              "    </tr>\n",
              "    <tr>\n",
              "      <th>2</th>\n",
              "      <td>The film quickly gets to a major chase scene w...</td>\n",
              "      <td>negative</td>\n",
              "    </tr>\n",
              "    <tr>\n",
              "      <th>3</th>\n",
              "      <td>Jane Austen would definitely approve of this o...</td>\n",
              "      <td>positive</td>\n",
              "    </tr>\n",
              "    <tr>\n",
              "      <th>4</th>\n",
              "      <td>Expectations were somewhat high for me when I ...</td>\n",
              "      <td>negative</td>\n",
              "    </tr>\n",
              "    <tr>\n",
              "      <th>...</th>\n",
              "      <td>...</td>\n",
              "      <td>...</td>\n",
              "    </tr>\n",
              "    <tr>\n",
              "      <th>24995</th>\n",
              "      <td>More directors like Nacho Vigalondo need a gre...</td>\n",
              "      <td>positive</td>\n",
              "    </tr>\n",
              "    <tr>\n",
              "      <th>24996</th>\n",
              "      <td>Rita Hayworth lights up the screen in this fun...</td>\n",
              "      <td>positive</td>\n",
              "    </tr>\n",
              "    <tr>\n",
              "      <th>24997</th>\n",
              "      <td>The biggest heroes, is one of the greatest mov...</td>\n",
              "      <td>positive</td>\n",
              "    </tr>\n",
              "    <tr>\n",
              "      <th>24998</th>\n",
              "      <td>I happened to see a promo for this movie on Sp...</td>\n",
              "      <td>negative</td>\n",
              "    </tr>\n",
              "    <tr>\n",
              "      <th>24999</th>\n",
              "      <td>Dumb is as dumb does, in this thoroughly unint...</td>\n",
              "      <td>negative</td>\n",
              "    </tr>\n",
              "  </tbody>\n",
              "</table>\n",
              "<p>25000 rows × 2 columns</p>\n",
              "</div>"
            ],
            "text/plain": [
              "                                                  review sentiment\n",
              "0      I really liked this Summerslam due to the look...  positive\n",
              "1      Not many television shows appeal to quite as m...  positive\n",
              "2      The film quickly gets to a major chase scene w...  negative\n",
              "3      Jane Austen would definitely approve of this o...  positive\n",
              "4      Expectations were somewhat high for me when I ...  negative\n",
              "...                                                  ...       ...\n",
              "24995  More directors like Nacho Vigalondo need a gre...  positive\n",
              "24996  Rita Hayworth lights up the screen in this fun...  positive\n",
              "24997  The biggest heroes, is one of the greatest mov...  positive\n",
              "24998  I happened to see a promo for this movie on Sp...  negative\n",
              "24999  Dumb is as dumb does, in this thoroughly unint...  negative\n",
              "\n",
              "[25000 rows x 2 columns]"
            ]
          },
          "execution_count": 4,
          "metadata": {},
          "output_type": "execute_result"
        }
      ],
      "source": [
        "dataset"
      ]
    },
    {
      "cell_type": "code",
      "execution_count": 5,
      "id": "55828210",
      "metadata": {
        "colab": {
          "base_uri": "https://localhost:8080/"
        },
        "id": "55828210",
        "outputId": "73928d40-f6dc-4d00-f8a8-00ca3502413e"
      },
      "outputs": [
        {
          "data": {
            "text/plain": [
              "review       0\n",
              "sentiment    0\n",
              "dtype: int64"
            ]
          },
          "execution_count": 5,
          "metadata": {},
          "output_type": "execute_result"
        }
      ],
      "source": [
        "# Checking missing values\n",
        "dataset.isnull().sum() # NULL finding"
      ]
    },
    {
      "cell_type": "code",
      "execution_count": 6,
      "id": "94649535",
      "metadata": {
        "colab": {
          "base_uri": "https://localhost:8080/"
        },
        "id": "94649535",
        "outputId": "9e3ed36c-4a82-4318-f144-4f31987ec0f9"
      },
      "outputs": [
        {
          "name": "stdout",
          "output_type": "stream",
          "text": [
            "Number Of Duplicates: 124\n",
            "Number Of Duplicates after drop: 0\n"
          ]
        }
      ],
      "source": [
        "print(\"Number Of Duplicates:\", dataset.duplicated().sum())\n",
        "dataset.drop_duplicates(inplace = True)\n",
        "print(\"Number Of Duplicates after drop:\", dataset.duplicated().sum())"
      ]
    },
    {
      "cell_type": "markdown",
      "id": "907349c2",
      "metadata": {},
      "source": [
        "**Checking Target Variable class distribution**"
      ]
    },
    {
      "cell_type": "code",
      "execution_count": 7,
      "id": "54063927",
      "metadata": {},
      "outputs": [
        {
          "name": "stdout",
          "output_type": "stream",
          "text": [
            "sentiment\n",
            "positive    12495\n",
            "negative    12381\n",
            "Name: count, dtype: int64\n"
          ]
        },
        {
          "data": {
            "text/plain": [
              "Text(0.5, 0, 'Sentiment')"
            ]
          },
          "execution_count": 7,
          "metadata": {},
          "output_type": "execute_result"
        },
        {
          "data": {
            "image/png": "[encoded data removed]",
            "text/plain": [
              "<Figure size 640x480 with 1 Axes>"
            ]
          },
          "metadata": {},
          "output_type": "display_data"
        }
      ],
      "source": [
        "print(dataset['sentiment'].value_counts())\n",
        "dataset['sentiment'].value_counts().plot(kind = 'bar', title = 'Sentiment Distribution')\n",
        "plt.xlabel('Sentiment') "
      ]
    },
    {
      "cell_type": "markdown",
      "id": "67a9d5f8",
      "metadata": {
        "id": "67a9d5f8"
      },
      "source": [
        "**Text Normalization**"
      ]
    },
    {
      "cell_type": "code",
      "execution_count": 8,
      "id": "2445d388",
      "metadata": {
        "id": "2445d388"
      },
      "outputs": [],
      "source": [
        "# Convert to lowercase\n",
        "dataset['review'] = dataset['review'].apply(lambda x:x.lower())"
      ]
    },
    {
      "cell_type": "markdown",
      "id": "f09ed2b5",
      "metadata": {
        "id": "f09ed2b5"
      },
      "source": [
        "**Removing HTML Tags**"
      ]
    },
    {
      "cell_type": "code",
      "execution_count": 9,
      "id": "5e9585c6",
      "metadata": {
        "id": "5e9585c6"
      },
      "outputs": [],
      "source": [
        "def remove_tags(raw_text):\n",
        "    cleaned_text = re.sub(re.compile('<.*?>'),\"\",raw_text)\n",
        "    return cleaned_text\n",
        "dataset['review'] = dataset['review'].apply(remove_tags)"
      ]
    },
    {
      "cell_type": "markdown",
      "id": "60352b8c",
      "metadata": {
        "id": "60352b8c"
      },
      "source": [
        "**Remove URLs**"
      ]
    },
    {
      "cell_type": "code",
      "execution_count": 10,
      "id": "5ac622b4",
      "metadata": {
        "id": "5ac622b4"
      },
      "outputs": [],
      "source": [
        "def remove_urls(raw_text):\n",
        "    cleaned_text = re.sub(r'http[s]?://\\S+', '', raw_text)\n",
        "    return cleaned_text\n",
        "\n",
        "# Apply the function to your dataset\n",
        "dataset['review'] = dataset['review'].apply(remove_urls)"
      ]
    },
    {
      "cell_type": "markdown",
      "id": "1d7d6536",
      "metadata": {
        "id": "1d7d6536"
      },
      "source": [
        "**Remove Punctuation**"
      ]
    },
    {
      "cell_type": "code",
      "execution_count": 11,
      "id": "9a99a165",
      "metadata": {
        "id": "9a99a165"
      },
      "outputs": [],
      "source": [
        "def remove_punctuation(text):\n",
        "    for c in string.punctuation:\n",
        "        text = text.replace(c,'')\n",
        "    return text\n",
        "dataset['review'] = dataset['review'].apply(remove_punctuation)"
      ]
    },
    {
      "cell_type": "markdown",
      "id": "8c041ee8",
      "metadata": {
        "id": "8c041ee8"
      },
      "source": [
        "**Stopword Removal**"
      ]
    },
    {
      "cell_type": "code",
      "execution_count": 12,
      "id": "bf79ae69",
      "metadata": {
        "colab": {
          "base_uri": "https://localhost:8080/"
        },
        "id": "bf79ae69",
        "outputId": "84c961c7-905f-47db-af02-2b50b3245114"
      },
      "outputs": [
        {
          "name": "stderr",
          "output_type": "stream",
          "text": [
            "[nltk_data] Downloading package stopwords to\n",
            "[nltk_data]     C:\\Users\\raheem\\AppData\\Roaming\\nltk_data...\n",
            "[nltk_data]   Package stopwords is already up-to-date!\n"
          ]
        }
      ],
      "source": [
        "import nltk\n",
        "nltk.download('stopwords')\n",
        "sw_list = stopwords.words('english')\n",
        "dataset['review'] = dataset['review'].apply(\n",
        "    lambda x: [item for item in x.split() if item not in sw_list]).apply(lambda x:\" \".join(x))"
      ]
    },
    {
      "cell_type": "code",
      "execution_count": 13,
      "id": "3efadb6e",
      "metadata": {},
      "outputs": [
        {
          "data": {
            "text/html": [
              "<div>\n",
              "<style scoped>\n",
              "    .dataframe tbody tr th:only-of-type {\n",
              "        vertical-align: middle;\n",
              "    }\n",
              "\n",
              "    .dataframe tbody tr th {\n",
              "        vertical-align: top;\n",
              "    }\n",
              "\n",
              "    .dataframe thead th {\n",
              "        text-align: right;\n",
              "    }\n",
              "</style>\n",
              "<table border=\"1\" class=\"dataframe\">\n",
              "  <thead>\n",
              "    <tr style=\"text-align: right;\">\n",
              "      <th></th>\n",
              "      <th>review</th>\n",
              "      <th>sentiment</th>\n",
              "    </tr>\n",
              "  </thead>\n",
              "  <tbody>\n",
              "    <tr>\n",
              "      <th>0</th>\n",
              "      <td>really liked summerslam due look arena curtain...</td>\n",
              "      <td>positive</td>\n",
              "    </tr>\n",
              "    <tr>\n",
              "      <th>1</th>\n",
              "      <td>many television shows appeal quite many differ...</td>\n",
              "      <td>positive</td>\n",
              "    </tr>\n",
              "    <tr>\n",
              "      <th>2</th>\n",
              "      <td>film quickly gets major chase scene ever incre...</td>\n",
              "      <td>negative</td>\n",
              "    </tr>\n",
              "    <tr>\n",
              "      <th>3</th>\n",
              "      <td>jane austen would definitely approve onegwynet...</td>\n",
              "      <td>positive</td>\n",
              "    </tr>\n",
              "    <tr>\n",
              "      <th>4</th>\n",
              "      <td>expectations somewhat high went see movie thou...</td>\n",
              "      <td>negative</td>\n",
              "    </tr>\n",
              "    <tr>\n",
              "      <th>...</th>\n",
              "      <td>...</td>\n",
              "      <td>...</td>\n",
              "    </tr>\n",
              "    <tr>\n",
              "      <th>24994</th>\n",
              "      <td>barely find words express utterly utterly awfu...</td>\n",
              "      <td>negative</td>\n",
              "    </tr>\n",
              "    <tr>\n",
              "      <th>24995</th>\n",
              "      <td>directors like nacho vigalondo need greater ou...</td>\n",
              "      <td>positive</td>\n",
              "    </tr>\n",
              "    <tr>\n",
              "      <th>24996</th>\n",
              "      <td>rita hayworth lights screen fun fancy delightf...</td>\n",
              "      <td>positive</td>\n",
              "    </tr>\n",
              "    <tr>\n",
              "      <th>24997</th>\n",
              "      <td>biggest heroes one greatest movies ever good s...</td>\n",
              "      <td>positive</td>\n",
              "    </tr>\n",
              "    <tr>\n",
              "      <th>24998</th>\n",
              "      <td>happened see promo movie spike channel last ni...</td>\n",
              "      <td>negative</td>\n",
              "    </tr>\n",
              "  </tbody>\n",
              "</table>\n",
              "<p>24876 rows × 2 columns</p>\n",
              "</div>"
            ],
            "text/plain": [
              "                                                  review sentiment\n",
              "0      really liked summerslam due look arena curtain...  positive\n",
              "1      many television shows appeal quite many differ...  positive\n",
              "2      film quickly gets major chase scene ever incre...  negative\n",
              "3      jane austen would definitely approve onegwynet...  positive\n",
              "4      expectations somewhat high went see movie thou...  negative\n",
              "...                                                  ...       ...\n",
              "24994  barely find words express utterly utterly awfu...  negative\n",
              "24995  directors like nacho vigalondo need greater ou...  positive\n",
              "24996  rita hayworth lights screen fun fancy delightf...  positive\n",
              "24997  biggest heroes one greatest movies ever good s...  positive\n",
              "24998  happened see promo movie spike channel last ni...  negative\n",
              "\n",
              "[24876 rows x 2 columns]"
            ]
          },
          "execution_count": 13,
          "metadata": {},
          "output_type": "execute_result"
        }
      ],
      "source": [
        "dataset"
      ]
    },
    {
      "cell_type": "markdown",
      "id": "6a792956",
      "metadata": {
        "id": "6a792956"
      },
      "source": [
        "**Tokenization**"
      ]
    },
    {
      "cell_type": "code",
      "execution_count": 14,
      "id": "3a24f1ad",
      "metadata": {
        "colab": {
          "base_uri": "https://localhost:8080/"
        },
        "id": "3a24f1ad",
        "outputId": "8dc46c53-7f79-431b-adc9-cd2042b2a5f2"
      },
      "outputs": [
        {
          "name": "stderr",
          "output_type": "stream",
          "text": [
            "[nltk_data] Downloading package punkt to\n",
            "[nltk_data]     C:\\Users\\raheem\\AppData\\Roaming\\nltk_data...\n",
            "[nltk_data]   Package punkt is already up-to-date!\n"
          ]
        }
      ],
      "source": [
        "# Tokenize the sentence\n",
        "import nltk\n",
        "nltk.download('punkt')\n",
        "dataset['review'] = dataset['review'].apply(lambda sentence: word_tokenize(sentence))"
      ]
    },
    {
      "cell_type": "code",
      "execution_count": 15,
      "id": "3f3e8b01",
      "metadata": {
        "colab": {
          "base_uri": "https://localhost:8080/"
        },
        "id": "3f3e8b01",
        "outputId": "769f436b-8983-450e-e517-020a0cb3cb1d"
      },
      "outputs": [
        {
          "data": {
            "text/plain": [
              "['really',\n",
              " 'liked',\n",
              " 'summerslam',\n",
              " 'due',\n",
              " 'look',\n",
              " 'arena',\n",
              " 'curtains',\n",
              " 'look',\n",
              " 'overall',\n",
              " 'interesting',\n",
              " 'reason',\n",
              " 'anyways',\n",
              " 'could',\n",
              " 'one',\n",
              " 'best',\n",
              " 'summerslams',\n",
              " 'ever',\n",
              " 'wwf',\n",
              " 'didnt',\n",
              " 'lex',\n",
              " 'luger',\n",
              " 'main',\n",
              " 'event',\n",
              " 'yokozuna',\n",
              " 'time',\n",
              " 'ok',\n",
              " 'huge',\n",
              " 'fat',\n",
              " 'man',\n",
              " 'vs',\n",
              " 'strong',\n",
              " 'man',\n",
              " 'im',\n",
              " 'glad',\n",
              " 'times',\n",
              " 'changed',\n",
              " 'terrible',\n",
              " 'main',\n",
              " 'event',\n",
              " 'like',\n",
              " 'every',\n",
              " 'match',\n",
              " 'luger',\n",
              " 'terrible',\n",
              " 'matches',\n",
              " 'card',\n",
              " 'razor',\n",
              " 'ramon',\n",
              " 'vs',\n",
              " 'ted',\n",
              " 'dibiase',\n",
              " 'steiner',\n",
              " 'brothers',\n",
              " 'vs',\n",
              " 'heavenly',\n",
              " 'bodies',\n",
              " 'shawn',\n",
              " 'michaels',\n",
              " 'vs',\n",
              " 'curt',\n",
              " 'hening',\n",
              " 'event',\n",
              " 'shawn',\n",
              " 'named',\n",
              " 'big',\n",
              " 'monster',\n",
              " 'body',\n",
              " 'guard',\n",
              " 'diesel',\n",
              " 'irs',\n",
              " 'vs',\n",
              " '123',\n",
              " 'kid',\n",
              " 'bret',\n",
              " 'hart',\n",
              " 'first',\n",
              " 'takes',\n",
              " 'doink',\n",
              " 'takes',\n",
              " 'jerry',\n",
              " 'lawler',\n",
              " 'stuff',\n",
              " 'harts',\n",
              " 'lawler',\n",
              " 'always',\n",
              " 'interesting',\n",
              " 'ludvig',\n",
              " 'borga',\n",
              " 'destroyed',\n",
              " 'marty',\n",
              " 'jannetty',\n",
              " 'undertaker',\n",
              " 'took',\n",
              " 'giant',\n",
              " 'gonzalez',\n",
              " 'another',\n",
              " 'terrible',\n",
              " 'match',\n",
              " 'smoking',\n",
              " 'gunns',\n",
              " 'tatanka',\n",
              " 'took',\n",
              " 'bam',\n",
              " 'bam',\n",
              " 'bigelow',\n",
              " 'headshrinkers',\n",
              " 'yokozuna',\n",
              " 'defended',\n",
              " 'world',\n",
              " 'title',\n",
              " 'lex',\n",
              " 'luger',\n",
              " 'match',\n",
              " 'boring',\n",
              " 'terrible',\n",
              " 'ending',\n",
              " 'however',\n",
              " 'deserves',\n",
              " '810']"
            ]
          },
          "execution_count": 15,
          "metadata": {},
          "output_type": "execute_result"
        }
      ],
      "source": [
        "dataset['review'][0]"
      ]
    },
    {
      "cell_type": "code",
      "execution_count": 16,
      "id": "f6d302d8",
      "metadata": {},
      "outputs": [
        {
          "data": {
            "text/html": [
              "<div>\n",
              "<style scoped>\n",
              "    .dataframe tbody tr th:only-of-type {\n",
              "        vertical-align: middle;\n",
              "    }\n",
              "\n",
              "    .dataframe tbody tr th {\n",
              "        vertical-align: top;\n",
              "    }\n",
              "\n",
              "    .dataframe thead th {\n",
              "        text-align: right;\n",
              "    }\n",
              "</style>\n",
              "<table border=\"1\" class=\"dataframe\">\n",
              "  <thead>\n",
              "    <tr style=\"text-align: right;\">\n",
              "      <th></th>\n",
              "      <th>review</th>\n",
              "      <th>sentiment</th>\n",
              "    </tr>\n",
              "  </thead>\n",
              "  <tbody>\n",
              "    <tr>\n",
              "      <th>0</th>\n",
              "      <td>[really, liked, summerslam, due, look, arena, ...</td>\n",
              "      <td>positive</td>\n",
              "    </tr>\n",
              "    <tr>\n",
              "      <th>1</th>\n",
              "      <td>[many, television, shows, appeal, quite, many,...</td>\n",
              "      <td>positive</td>\n",
              "    </tr>\n",
              "    <tr>\n",
              "      <th>2</th>\n",
              "      <td>[film, quickly, gets, major, chase, scene, eve...</td>\n",
              "      <td>negative</td>\n",
              "    </tr>\n",
              "    <tr>\n",
              "      <th>3</th>\n",
              "      <td>[jane, austen, would, definitely, approve, one...</td>\n",
              "      <td>positive</td>\n",
              "    </tr>\n",
              "    <tr>\n",
              "      <th>4</th>\n",
              "      <td>[expectations, somewhat, high, went, see, movi...</td>\n",
              "      <td>negative</td>\n",
              "    </tr>\n",
              "    <tr>\n",
              "      <th>...</th>\n",
              "      <td>...</td>\n",
              "      <td>...</td>\n",
              "    </tr>\n",
              "    <tr>\n",
              "      <th>24994</th>\n",
              "      <td>[barely, find, words, express, utterly, utterl...</td>\n",
              "      <td>negative</td>\n",
              "    </tr>\n",
              "    <tr>\n",
              "      <th>24995</th>\n",
              "      <td>[directors, like, nacho, vigalondo, need, grea...</td>\n",
              "      <td>positive</td>\n",
              "    </tr>\n",
              "    <tr>\n",
              "      <th>24996</th>\n",
              "      <td>[rita, hayworth, lights, screen, fun, fancy, d...</td>\n",
              "      <td>positive</td>\n",
              "    </tr>\n",
              "    <tr>\n",
              "      <th>24997</th>\n",
              "      <td>[biggest, heroes, one, greatest, movies, ever,...</td>\n",
              "      <td>positive</td>\n",
              "    </tr>\n",
              "    <tr>\n",
              "      <th>24998</th>\n",
              "      <td>[happened, see, promo, movie, spike, channel, ...</td>\n",
              "      <td>negative</td>\n",
              "    </tr>\n",
              "  </tbody>\n",
              "</table>\n",
              "<p>24876 rows × 2 columns</p>\n",
              "</div>"
            ],
            "text/plain": [
              "                                                  review sentiment\n",
              "0      [really, liked, summerslam, due, look, arena, ...  positive\n",
              "1      [many, television, shows, appeal, quite, many,...  positive\n",
              "2      [film, quickly, gets, major, chase, scene, eve...  negative\n",
              "3      [jane, austen, would, definitely, approve, one...  positive\n",
              "4      [expectations, somewhat, high, went, see, movi...  negative\n",
              "...                                                  ...       ...\n",
              "24994  [barely, find, words, express, utterly, utterl...  negative\n",
              "24995  [directors, like, nacho, vigalondo, need, grea...  positive\n",
              "24996  [rita, hayworth, lights, screen, fun, fancy, d...  positive\n",
              "24997  [biggest, heroes, one, greatest, movies, ever,...  positive\n",
              "24998  [happened, see, promo, movie, spike, channel, ...  negative\n",
              "\n",
              "[24876 rows x 2 columns]"
            ]
          },
          "execution_count": 16,
          "metadata": {},
          "output_type": "execute_result"
        }
      ],
      "source": [
        "dataset"
      ]
    },
    {
      "cell_type": "markdown",
      "id": "37a2ca90",
      "metadata": {
        "id": "37a2ca90"
      },
      "source": [
        "**Lemmatization**"
      ]
    },
    {
      "cell_type": "code",
      "execution_count": 17,
      "id": "8e67571d",
      "metadata": {
        "colab": {
          "base_uri": "https://localhost:8080/"
        },
        "id": "8e67571d",
        "outputId": "6871dcf8-f7f5-46da-af6f-f0829f00d6c0"
      },
      "outputs": [
        {
          "name": "stderr",
          "output_type": "stream",
          "text": [
            "[nltk_data] Downloading package averaged_perceptron_tagger to\n",
            "[nltk_data]     C:\\Users\\raheem\\AppData\\Roaming\\nltk_data...\n",
            "[nltk_data]   Package averaged_perceptron_tagger is already up-to-\n",
            "[nltk_data]       date!\n",
            "[nltk_data] Downloading package wordnet to\n",
            "[nltk_data]     C:\\Users\\raheem\\AppData\\Roaming\\nltk_data...\n",
            "[nltk_data]   Package wordnet is already up-to-date!\n"
          ]
        }
      ],
      "source": [
        "import nltk\n",
        "from nltk.stem import WordNetLemmatizer\n",
        "from nltk.tokenize import word_tokenize\n",
        "\n",
        "nltk.download('averaged_perceptron_tagger')\n",
        "nltk.download('wordnet')\n",
        "\n",
        "# Initialize the WordNetLemmatizer\n",
        "lemmatizer = WordNetLemmatizer()\n",
        "\n",
        "# Function to lemmatize tokens with POS tagging\n",
        "def lemmatize_with_pos(tokens):\n",
        "    tagged_tokens = nltk.pos_tag(tokens)  # Perform POS tagging\n",
        "    lemmatized_tokens = []\n",
        "    for token, tag in tagged_tokens:\n",
        "        # Convert POS tag to WordNet POS tag\n",
        "        wn_tag = nltk.corpus.wordnet.NOUN\n",
        "        if tag.startswith('J'):\n",
        "            wn_tag = nltk.corpus.wordnet.ADJ\n",
        "        elif tag.startswith('V'):\n",
        "            wn_tag = nltk.corpus.wordnet.VERB\n",
        "        elif tag.startswith('R'):\n",
        "            wn_tag = nltk.corpus.wordnet.ADV\n",
        "        # Lemmatize token with POS tag\n",
        "        lemma = lemmatizer.lemmatize(token, pos=wn_tag)\n",
        "        lemmatized_tokens.append(lemma)\n",
        "    return lemmatized_tokens\n",
        "\n",
        "# Apply lemmatization to your dataset column\n",
        "dataset['review'] = dataset['review'].apply(lemmatize_with_pos)\n"
      ]
    },
    {
      "cell_type": "code",
      "execution_count": 18,
      "id": "07efafac",
      "metadata": {
        "colab": {
          "base_uri": "https://localhost:8080/"
        },
        "id": "07efafac",
        "outputId": "c29b383c-54af-4758-c4e5-4b1e27c2fbbc"
      },
      "outputs": [
        {
          "data": {
            "text/html": [
              "<div>\n",
              "<style scoped>\n",
              "    .dataframe tbody tr th:only-of-type {\n",
              "        vertical-align: middle;\n",
              "    }\n",
              "\n",
              "    .dataframe tbody tr th {\n",
              "        vertical-align: top;\n",
              "    }\n",
              "\n",
              "    .dataframe thead th {\n",
              "        text-align: right;\n",
              "    }\n",
              "</style>\n",
              "<table border=\"1\" class=\"dataframe\">\n",
              "  <thead>\n",
              "    <tr style=\"text-align: right;\">\n",
              "      <th></th>\n",
              "      <th>review</th>\n",
              "      <th>sentiment</th>\n",
              "    </tr>\n",
              "  </thead>\n",
              "  <tbody>\n",
              "    <tr>\n",
              "      <th>0</th>\n",
              "      <td>[really, liked, summerslam, due, look, arena, ...</td>\n",
              "      <td>positive</td>\n",
              "    </tr>\n",
              "    <tr>\n",
              "      <th>1</th>\n",
              "      <td>[many, television, show, appeal, quite, many, ...</td>\n",
              "      <td>positive</td>\n",
              "    </tr>\n",
              "    <tr>\n",
              "      <th>2</th>\n",
              "      <td>[film, quickly, get, major, chase, scene, ever...</td>\n",
              "      <td>negative</td>\n",
              "    </tr>\n",
              "    <tr>\n",
              "      <th>3</th>\n",
              "      <td>[jane, austen, would, definitely, approve, one...</td>\n",
              "      <td>positive</td>\n",
              "    </tr>\n",
              "    <tr>\n",
              "      <th>4</th>\n",
              "      <td>[expectation, somewhat, high, go, see, movie, ...</td>\n",
              "      <td>negative</td>\n",
              "    </tr>\n",
              "    <tr>\n",
              "      <th>...</th>\n",
              "      <td>...</td>\n",
              "      <td>...</td>\n",
              "    </tr>\n",
              "    <tr>\n",
              "      <th>24994</th>\n",
              "      <td>[barely, find, word, express, utterly, utterly...</td>\n",
              "      <td>negative</td>\n",
              "    </tr>\n",
              "    <tr>\n",
              "      <th>24995</th>\n",
              "      <td>[director, like, nacho, vigalondo, need, great...</td>\n",
              "      <td>positive</td>\n",
              "    </tr>\n",
              "    <tr>\n",
              "      <th>24996</th>\n",
              "      <td>[rita, hayworth, light, screen, fun, fancy, de...</td>\n",
              "      <td>positive</td>\n",
              "    </tr>\n",
              "    <tr>\n",
              "      <th>24997</th>\n",
              "      <td>[big, hero, one, great, movie, ever, good, sto...</td>\n",
              "      <td>positive</td>\n",
              "    </tr>\n",
              "    <tr>\n",
              "      <th>24998</th>\n",
              "      <td>[happen, see, promo, movie, spike, channel, la...</td>\n",
              "      <td>negative</td>\n",
              "    </tr>\n",
              "  </tbody>\n",
              "</table>\n",
              "<p>24876 rows × 2 columns</p>\n",
              "</div>"
            ],
            "text/plain": [
              "                                                  review sentiment\n",
              "0      [really, liked, summerslam, due, look, arena, ...  positive\n",
              "1      [many, television, show, appeal, quite, many, ...  positive\n",
              "2      [film, quickly, get, major, chase, scene, ever...  negative\n",
              "3      [jane, austen, would, definitely, approve, one...  positive\n",
              "4      [expectation, somewhat, high, go, see, movie, ...  negative\n",
              "...                                                  ...       ...\n",
              "24994  [barely, find, word, express, utterly, utterly...  negative\n",
              "24995  [director, like, nacho, vigalondo, need, great...  positive\n",
              "24996  [rita, hayworth, light, screen, fun, fancy, de...  positive\n",
              "24997  [big, hero, one, great, movie, ever, good, sto...  positive\n",
              "24998  [happen, see, promo, movie, spike, channel, la...  negative\n",
              "\n",
              "[24876 rows x 2 columns]"
            ]
          },
          "execution_count": 18,
          "metadata": {},
          "output_type": "execute_result"
        }
      ],
      "source": [
        "dataset"
      ]
    },
    {
      "cell_type": "markdown",
      "id": "b9198d18",
      "metadata": {
        "id": "b9198d18"
      },
      "source": [
        "**Rejoin tokens as a single sentence again**"
      ]
    },
    {
      "cell_type": "code",
      "execution_count": 19,
      "id": "2e873aa6",
      "metadata": {
        "id": "2e873aa6"
      },
      "outputs": [],
      "source": [
        "def join(tokens):\n",
        "    return ' '.join(token for token in tokens)\n",
        "\n",
        "dataset['review'] = dataset['review'].apply(join)"
      ]
    },
    {
      "cell_type": "code",
      "execution_count": 20,
      "id": "7574875f",
      "metadata": {},
      "outputs": [
        {
          "data": {
            "text/html": [
              "<div>\n",
              "<style scoped>\n",
              "    .dataframe tbody tr th:only-of-type {\n",
              "        vertical-align: middle;\n",
              "    }\n",
              "\n",
              "    .dataframe tbody tr th {\n",
              "        vertical-align: top;\n",
              "    }\n",
              "\n",
              "    .dataframe thead th {\n",
              "        text-align: right;\n",
              "    }\n",
              "</style>\n",
              "<table border=\"1\" class=\"dataframe\">\n",
              "  <thead>\n",
              "    <tr style=\"text-align: right;\">\n",
              "      <th></th>\n",
              "      <th>review</th>\n",
              "      <th>sentiment</th>\n",
              "    </tr>\n",
              "  </thead>\n",
              "  <tbody>\n",
              "    <tr>\n",
              "      <th>0</th>\n",
              "      <td>really liked summerslam due look arena curtain...</td>\n",
              "      <td>positive</td>\n",
              "    </tr>\n",
              "    <tr>\n",
              "      <th>1</th>\n",
              "      <td>many television show appeal quite many differe...</td>\n",
              "      <td>positive</td>\n",
              "    </tr>\n",
              "    <tr>\n",
              "      <th>2</th>\n",
              "      <td>film quickly get major chase scene ever increa...</td>\n",
              "      <td>negative</td>\n",
              "    </tr>\n",
              "    <tr>\n",
              "      <th>3</th>\n",
              "      <td>jane austen would definitely approve onegwynet...</td>\n",
              "      <td>positive</td>\n",
              "    </tr>\n",
              "    <tr>\n",
              "      <th>4</th>\n",
              "      <td>expectation somewhat high go see movie think s...</td>\n",
              "      <td>negative</td>\n",
              "    </tr>\n",
              "    <tr>\n",
              "      <th>...</th>\n",
              "      <td>...</td>\n",
              "      <td>...</td>\n",
              "    </tr>\n",
              "    <tr>\n",
              "      <th>24994</th>\n",
              "      <td>barely find word express utterly utterly awful...</td>\n",
              "      <td>negative</td>\n",
              "    </tr>\n",
              "    <tr>\n",
              "      <th>24995</th>\n",
              "      <td>director like nacho vigalondo need great outle...</td>\n",
              "      <td>positive</td>\n",
              "    </tr>\n",
              "    <tr>\n",
              "      <th>24996</th>\n",
              "      <td>rita hayworth light screen fun fancy delightfu...</td>\n",
              "      <td>positive</td>\n",
              "    </tr>\n",
              "    <tr>\n",
              "      <th>24997</th>\n",
              "      <td>big hero one great movie ever good story great...</td>\n",
              "      <td>positive</td>\n",
              "    </tr>\n",
              "    <tr>\n",
              "      <th>24998</th>\n",
              "      <td>happen see promo movie spike channel last nigh...</td>\n",
              "      <td>negative</td>\n",
              "    </tr>\n",
              "  </tbody>\n",
              "</table>\n",
              "<p>24876 rows × 2 columns</p>\n",
              "</div>"
            ],
            "text/plain": [
              "                                                  review sentiment\n",
              "0      really liked summerslam due look arena curtain...  positive\n",
              "1      many television show appeal quite many differe...  positive\n",
              "2      film quickly get major chase scene ever increa...  negative\n",
              "3      jane austen would definitely approve onegwynet...  positive\n",
              "4      expectation somewhat high go see movie think s...  negative\n",
              "...                                                  ...       ...\n",
              "24994  barely find word express utterly utterly awful...  negative\n",
              "24995  director like nacho vigalondo need great outle...  positive\n",
              "24996  rita hayworth light screen fun fancy delightfu...  positive\n",
              "24997  big hero one great movie ever good story great...  positive\n",
              "24998  happen see promo movie spike channel last nigh...  negative\n",
              "\n",
              "[24876 rows x 2 columns]"
            ]
          },
          "execution_count": 20,
          "metadata": {},
          "output_type": "execute_result"
        }
      ],
      "source": [
        "dataset"
      ]
    },
    {
      "cell_type": "markdown",
      "id": "c5a5c4a6",
      "metadata": {},
      "source": [
        "**DAY 03**"
      ]
    },
    {
      "cell_type": "markdown",
      "id": "f637d45c",
      "metadata": {
        "id": "f637d45c"
      },
      "source": [
        "**Word Vectorization using TF-IDF**\n",
        "\n",
        "Machine learning algorithms expect the data to be 2D array with rows as instances and columns as features. The problem with natural language is that the data is in the form of raw text, so that the text needs to be transformed into a vector.\n",
        "\n",
        "**The process of transforming text into a vector is commonly referred to as text vectorization.** \n",
        "\n",
        "Word vectorization is a methodology in NLP to map words or phrases from vocabulary to a corresponding vector of real numbers which used to find word predictions, word similarities/semantics. "
      ]
    },
    {
      "attachments": {
        "image.png": {
          "image/png": "[encoded data removed]"
        }
      },
      "cell_type": "markdown",
      "id": "94f9c0ac",
      "metadata": {},
      "source": [
        "**Term Frequency-Inverse Document Frequency**\n",
        "\n",
        "**TF-IDF**\n",
        "\n",
        "Text vectorization algorithm namely TF-IDF vectorizer, which is a very popular approach for traditional machine learning algorithms in transforming text into vectors.\n",
        "\n",
        "Term frequency-inverse document frequency is a text vectorizer that transforms the text into a usable vector. It combines 2 concepts, Term Frequency (TF) and Document Frequency (DF).\n",
        "\n",
        "![image.png](attachment:image.png)"
      ]
    },
    {
      "cell_type": "code",
      "execution_count": 21,
      "id": "df72427e",
      "metadata": {
        "id": "df72427e"
      },
      "outputs": [],
      "source": [
        "# Defining feature and labels\n",
        "train, test = train_test_split(dataset, test_size = 0.2, shuffle = True) # Train Split 80-20\n",
        "tfidfvect = TfidfVectorizer(analyzer = \"word\", ngram_range = (1,2), min_df = 10, max_features = 5000)\n",
        "\n",
        "x_train_tfidf = tfidfvect.fit_transform(train['review']).toarray()\n",
        "x_test_tfidf = tfidfvect.transform(test['review']).toarray()\n",
        "\n",
        "y_train = train['sentiment']\n",
        "y_test = test['sentiment']"
      ]
    },
    {
      "cell_type": "code",
      "execution_count": 22,
      "id": "9e630336",
      "metadata": {},
      "outputs": [
        {
          "data": {
            "text/plain": [
              "array([[0.11545204, 0.        , 0.        , ..., 0.        , 0.        ,\n",
              "        0.        ],\n",
              "       [0.        , 0.        , 0.        , ..., 0.        , 0.        ,\n",
              "        0.        ],\n",
              "       [0.        , 0.        , 0.        , ..., 0.        , 0.        ,\n",
              "        0.        ],\n",
              "       ...,\n",
              "       [0.        , 0.        , 0.        , ..., 0.        , 0.        ,\n",
              "        0.        ],\n",
              "       [0.        , 0.        , 0.        , ..., 0.        , 0.        ,\n",
              "        0.        ],\n",
              "       [0.        , 0.        , 0.        , ..., 0.        , 0.        ,\n",
              "        0.        ]])"
            ]
          },
          "execution_count": 22,
          "metadata": {},
          "output_type": "execute_result"
        }
      ],
      "source": [
        "x_train_tfidf"
      ]
    },
    {
      "cell_type": "code",
      "execution_count": 23,
      "id": "3bd61f0d",
      "metadata": {},
      "outputs": [
        {
          "data": {
            "text/plain": [
              "8451     negative\n",
              "24880    negative\n",
              "22581    positive\n",
              "18914    positive\n",
              "14099    negative\n",
              "           ...   \n",
              "14991    positive\n",
              "3110     negative\n",
              "23699    negative\n",
              "6681     positive\n",
              "22382    positive\n",
              "Name: sentiment, Length: 19900, dtype: object"
            ]
          },
          "execution_count": 23,
          "metadata": {},
          "output_type": "execute_result"
        }
      ],
      "source": [
        "y_train"
      ]
    },
    {
      "cell_type": "markdown",
      "id": "4f1b7020",
      "metadata": {},
      "source": [
        "**Machine Learning Model Building**"
      ]
    },
    {
      "cell_type": "markdown",
      "id": "d7099440",
      "metadata": {
        "id": "d7099440"
      },
      "source": [
        "**Multinomial Naive Bayes**"
      ]
    },
    {
      "cell_type": "code",
      "execution_count": 33,
      "id": "6569f4ca",
      "metadata": {
        "colab": {
          "base_uri": "https://localhost:8080/",
          "height": 74
        },
        "id": "6569f4ca",
        "outputId": "c734ae76-c38c-48ae-eea0-022f3f0e372d"
      },
      "outputs": [
        {
          "name": "stdout",
          "output_type": "stream",
          "text": [
            "F1 Score:  0.8562815275769059\n",
            "Classification Report: \n",
            "               precision    recall  f1-score   support\n",
            "\n",
            "    negative       0.86      0.85      0.85      2444\n",
            "    positive       0.85      0.87      0.86      2532\n",
            "\n",
            "    accuracy                           0.86      4976\n",
            "   macro avg       0.86      0.86      0.86      4976\n",
            "weighted avg       0.86      0.86      0.86      4976\n",
            "\n"
          ]
        }
      ],
      "source": [
        "from sklearn.naive_bayes import MultinomialNB\n",
        "\n",
        "mnb = MultinomialNB()\n",
        "mnb.fit(x_train_tfidf, y_train)\n",
        "y_pred_1 = mnb.predict(x_test_tfidf)\n",
        "print('F1 Score: ', f1_score(y_test, y_pred_1, average = 'weighted'))\n",
        "print('Classification Report: \\n', classification_report(y_test, y_pred_1))"
      ]
    },
    {
      "cell_type": "markdown",
      "id": "bc3c8d7b",
      "metadata": {
        "id": "bc3c8d7b"
      },
      "source": [
        "**Logistic Regression**"
      ]
    },
    {
      "cell_type": "code",
      "execution_count": 34,
      "id": "8ec3e69b",
      "metadata": {
        "colab": {
          "base_uri": "https://localhost:8080/",
          "height": 74
        },
        "id": "8ec3e69b",
        "outputId": "c54c3da0-c71c-4bd9-d3d2-32d93bde5575"
      },
      "outputs": [
        {
          "name": "stdout",
          "output_type": "stream",
          "text": [
            "F1 Score:  0.8806099333813654\n",
            "Classification Report: \n",
            "               precision    recall  f1-score   support\n",
            "\n",
            "    negative       0.88      0.87      0.88      2444\n",
            "    positive       0.88      0.89      0.88      2532\n",
            "\n",
            "    accuracy                           0.88      4976\n",
            "   macro avg       0.88      0.88      0.88      4976\n",
            "weighted avg       0.88      0.88      0.88      4976\n",
            "\n"
          ]
        }
      ],
      "source": [
        "from sklearn.linear_model import LogisticRegression\n",
        "\n",
        "lr = LogisticRegression()\n",
        "lr.fit(x_train_tfidf, y_train)\n",
        "y_pred_2 = lr.predict(x_test_tfidf)\n",
        "print('F1 Score: ', f1_score(y_test, y_pred_2, average = 'weighted'))\n",
        "print('Classification Report: \\n', classification_report(y_test, y_pred_2))"
      ]
    },
    {
      "cell_type": "markdown",
      "id": "e3f4d16f",
      "metadata": {
        "id": "e3f4d16f"
      },
      "source": [
        "**Random Forest**"
      ]
    },
    {
      "cell_type": "code",
      "execution_count": 35,
      "id": "92f9f6ca",
      "metadata": {
        "colab": {
          "base_uri": "https://localhost:8080/",
          "height": 74
        },
        "id": "92f9f6ca",
        "outputId": "c1e31b67-5bf9-4012-da83-cbe174e9013d"
      },
      "outputs": [
        {
          "name": "stdout",
          "output_type": "stream",
          "text": [
            "F1 Score:  0.8396369351182292\n",
            "Classification Report: \n",
            "               precision    recall  f1-score   support\n",
            "\n",
            "    negative       0.83      0.85      0.84      2444\n",
            "    positive       0.85      0.83      0.84      2532\n",
            "\n",
            "    accuracy                           0.84      4976\n",
            "   macro avg       0.84      0.84      0.84      4976\n",
            "weighted avg       0.84      0.84      0.84      4976\n",
            "\n"
          ]
        }
      ],
      "source": [
        "from sklearn.ensemble import RandomForestClassifier\n",
        "\n",
        "rf = RandomForestClassifier()\n",
        "rf.fit(x_train_tfidf, y_train)\n",
        "y_pred_3 = rf.predict(x_test_tfidf)\n",
        "print('F1 Score: ', f1_score(y_test, y_pred_3, average = 'weighted'))\n",
        "print('Classification Report: \\n', classification_report(y_test, y_pred_3))"
      ]
    },
    {
      "cell_type": "markdown",
      "id": "4636b0b2",
      "metadata": {
        "id": "4636b0b2"
      },
      "source": [
        "**Hyperparameter Tuning**"
      ]
    },
    {
      "cell_type": "markdown",
      "id": "f677627d",
      "metadata": {
        "id": "f677627d"
      },
      "source": [
        "**Multinomial Naive Bayes**\n",
        "\n",
        "This machine learning algorithm does not have a significant hyper-paramter to tune. So, we apply Cross Validation to validate the model while reducing / eliminating the overfitting if any."
      ]
    },
    {
      "cell_type": "code",
      "execution_count": 36,
      "id": "501beb67",
      "metadata": {
        "id": "501beb67"
      },
      "outputs": [],
      "source": [
        "from sklearn.model_selection import StratifiedKFold\n",
        "skf = StratifiedKFold(n_splits = 5, shuffle = True, random_state = 42)"
      ]
    },
    {
      "cell_type": "code",
      "execution_count": 37,
      "id": "bca3d9a6",
      "metadata": {
        "id": "bca3d9a6"
      },
      "outputs": [
        {
          "name": "stdout",
          "output_type": "stream",
          "text": [
            "CV Results of MNB:  0.8546231155778894\n"
          ]
        }
      ],
      "source": [
        "from sklearn.naive_bayes import MultinomialNB\n",
        "mnb = MultinomialNB()\n",
        "\n",
        "from sklearn.model_selection import cross_val_score\n",
        "cv_results = cross_val_score(mnb, x_train_tfidf, y_train, cv = skf)\n",
        "\n",
        "# CV Results\n",
        "print (\"CV Results of MNB: \", cv_results.mean())"
      ]
    },
    {
      "cell_type": "markdown",
      "id": "441e993c",
      "metadata": {},
      "source": [
        "**Logistic Regression**"
      ]
    },
    {
      "cell_type": "code",
      "execution_count": 1,
      "id": "802ca2fa",
      "metadata": {},
      "outputs": [],
      "source": [
        "from numpy import arange\n",
        "param_grid = {\n",
        "    'penalty': [\"l1\", \"l2\", \"elasticnet\"],\n",
        "    'solver': ['saga', 'liblinear', 'lbfgs'],\n",
        "    'class_weight': ['balanced']\n",
        "}"
      ]
    },
    {
      "cell_type": "code",
      "execution_count": 2,
      "id": "33e2548d",
      "metadata": {},
      "outputs": [
        {
          "ename": "NameError",
          "evalue": "name 'GridSearchCV' is not defined",
          "output_type": "error",
          "traceback": [
            "\u001b[1;31m---------------------------------------------------------------------------\u001b[0m",
            "\u001b[1;31mNameError\u001b[0m                                 Traceback (most recent call last)",
            "Cell \u001b[1;32mIn[2], line 1\u001b[0m\n\u001b[1;32m----> 1\u001b[0m grid_rf \u001b[38;5;241m=\u001b[39m \u001b[43mGridSearchCV\u001b[49m(lr, param_grid, scoring \u001b[38;5;241m=\u001b[39m \u001b[38;5;124m'\u001b[39m\u001b[38;5;124mf1_weighted\u001b[39m\u001b[38;5;124m'\u001b[39m, cv \u001b[38;5;241m=\u001b[39m skf)\n\u001b[0;32m      2\u001b[0m grid_rf\u001b[38;5;241m.\u001b[39mfit(x_train_tfidf, y_train)\n\u001b[0;32m      3\u001b[0m \u001b[38;5;28mprint\u001b[39m(\u001b[38;5;124m\"\u001b[39m\u001b[38;5;124mBest Parameters of LR: \u001b[39m\u001b[38;5;124m\"\u001b[39m, grid_rf\u001b[38;5;241m.\u001b[39mbest_params_)\n",
            "\u001b[1;31mNameError\u001b[0m: name 'GridSearchCV' is not defined"
          ]
        }
      ],
      "source": [
        "grid_rf = GridSearchCV(lr, param_grid, scoring = 'f1_weighted', cv = skf)\n",
        "grid_rf.fit(x_train_tfidf, y_train)\n",
        "print(\"Best Parameters of LR: \", grid_rf.best_params_)\n",
        "print(\"Best F1 Score of LR: \", grid_rf.best_score_)"
      ]
    },
    {
      "cell_type": "markdown",
      "id": "9279b56c",
      "metadata": {
        "id": "9279b56c"
      },
      "source": [
        "**Random Forest**"
      ]
    },
    {
      "cell_type": "code",
      "execution_count": null,
      "id": "79f8d4c2",
      "metadata": {
        "id": "79f8d4c2"
      },
      "outputs": [],
      "source": [
        "from numpy import arange\n",
        "param_grid = {\n",
        "    'criterion': [\"gini\", \"entropy\", \"log_loss\"],\n",
        "    'max_depth': arange(3, 5, 1),\n",
        "    'class_weight': ['balanced']\n",
        "}"
      ]
    },
    {
      "cell_type": "code",
      "execution_count": null,
      "id": "33d44d9d",
      "metadata": {
        "id": "33d44d9d"
      },
      "outputs": [],
      "source": [
        "grid_rf = GridSearchCV(rf, param_grid, scoring = 'f1_weighted', cv = skf)\n",
        "grid_rf.fit(x_train_tfidf, y_train)\n",
        "print(\"Best Parameters of RF: \", grid_rf.best_params_)\n",
        "print(\"Best F1 Score of RF: \", grid_rf.best_score_)"
      ]
    }
  ],
  "metadata": {
    "colab": {
      "provenance": []
    },
    "kernelspec": {
      "display_name": "Python 3",
      "language": "python",
      "name": "python3"
    },
    "language_info": {
      "codemirror_mode": {
        "name": "ipython",
        "version": 3
      },
      "file_extension": ".py",
      "mimetype": "text/x-python",
      "name": "python",
      "nbconvert_exporter": "python",
      "pygments_lexer": "ipython3",
      "version": "3.11.9"
    }
  },
  "nbformat": 4,
  "nbformat_minor": 5
}
